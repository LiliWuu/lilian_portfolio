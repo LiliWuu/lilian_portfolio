{
 "cells": [
  {
   "attachments": {},
   "cell_type": "markdown",
   "metadata": {},
   "source": [
    "---\n",
    "toc: true\n",
    "comments: true\n",
    "layout: post\n",
    "title: Tasks to Accomplish\n",
    "description: This page shows what projects or work that need to be done and when\n",
    "courses: { compsci: {week: 2} }\n",
    "type: hacks\n",
    "---"
   ]
  },
  {
   "cell_type": "markdown",
   "metadata": {},
   "source": [
    "## Important Reminders\n",
    "1. Make Lab Notebook rows/columns for each week 0, 1, 2.  Make a hack (IPYNB) and review/exit ticket for each row.   Review student page as guide\n",
    "<a href=\"https://nighthawkcoders.github.io/student/compsci\">Sample Student Lab Notebook</a>\n",
    "2. Get teacher's <a href=\"github.io\">github.io</a> public site running.  This will work after GitHub sync.  Here are some key references for GitHub: <a href=\"https://nighthawkcoders.github.io/student/2023/08/26/GitHub_Sync.html\">GitHub Overview</a>\n",
    "3. Work on revising his IPYNB file(s) and add in the required Hacks.  Learn how to do  “Code Fencing”, “Code Cells”.  Revise  Linux Shell  IPYNB, prune and perform hacks\n",
    "4. Revise Home Page to only be a Lab Notebook Cover sheet,  Remove some of the content that teacher mistakingly put on this page regarding weekly plans and hacks …. move this information into my Lab Notebook rows/columns\n",
    "5. Work on adding a Project as an independent _post that could be in Week 1 hacks of the notebook (ex. calculator)"
   ]
  }
 ],
 "metadata": {
  "kernelspec": {
   "display_name": "base",
   "language": "python",
   "name": "python3"
  },
  "language_info": {
   "codemirror_mode": {
    "name": "ipython",
    "version": 3
   },
   "file_extension": ".py",
   "mimetype": "text/x-python",
   "name": "python",
   "nbconvert_exporter": "python",
   "pygments_lexer": "ipython3",
   "version": "3.9.12"
  },
  "orig_nbformat": 4
 },
 "nbformat": 4,
 "nbformat_minor": 2
}
