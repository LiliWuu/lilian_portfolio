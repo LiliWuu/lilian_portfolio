{
 "cells": [
  {
   "cell_type": "markdown",
   "metadata": {},
   "source": []
  },
  {
   "attachments": {},
   "cell_type": "markdown",
   "metadata": {},
   "source": [
    "---\n",
    "comments: true\n",
    "layout: post\n",
    "title: Questions to Ask Teacher\n",
    "description: This is where I will define my concerns and consider asking the teacher about them or find the answers myself to help me better understand the material.\n",
    "type: tangibles\n",
    "courses: { compsci: {week: 1} }\n",
    "categories: [C4.1]\n",
    "---"
   ]
  },
  {
   "attachments": {},
   "cell_type": "markdown",
   "metadata": {},
   "source": [
    "\n",
    "## Questions\n",
    "- What are the different applications (ex. Vscode, Homebrew, Jupyter Notebooks, Github) and what do they do?\n",
    "- How do the basic commands work and what do they do? (ex. cd, pwd, ls, make)\n",
    "- How to solve the problem of python3 on mac?\n",
    "- Why practice Javascript and not Python for coding?"
   ]
  }
 ],
 "metadata": {
  "kernelspec": {
   "display_name": "Python 3 (ipykernel)",
   "language": "python",
   "name": "python3"
  },
  "language_info": {
   "codemirror_mode": {
    "name": "ipython",
    "version": 3
   },
   "file_extension": ".py",
   "mimetype": "text/x-python",
   "name": "python",
   "nbconvert_exporter": "python",
   "pygments_lexer": "ipython3",
   "version": "3.9.12"
  }
 },
 "nbformat": 4,
 "nbformat_minor": 2
}
